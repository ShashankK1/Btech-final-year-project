{
  "nbformat": 4,
  "nbformat_minor": 0,
  "metadata": {
    "colab": {
      "provenance": [],
      "authorship_tag": "ABX9TyO/OQv5MRr5BUr6MCYBOu3U"
    },
    "kernelspec": {
      "name": "python3",
      "display_name": "Python 3"
    },
    "language_info": {
      "name": "python"
    }
  },
  "cells": [
    {
      "cell_type": "code",
      "execution_count": null,
      "metadata": {
        "id": "GdUCevTzfSFH"
      },
      "outputs": [],
      "source": [
        "import urllib3\n",
        "import json\n",
        "from urllib.parse import urlparse, parse_qs\n",
        "import requests\n",
        "import urllib\n",
        "import pandas as pd\n",
        "from io import BytesIO"
      ]
    },
    {
      "cell_type": "code",
      "source": [
        "from google.colab import drive\n",
        "\n",
        "drive.mount('/content/drive')"
      ],
      "metadata": {
        "colab": {
          "base_uri": "https://localhost:8080/"
        },
        "id": "yP_E2PHEQm1-",
        "outputId": "20165164-a5f2-49fa-bc21-1448b398511f"
      },
      "execution_count": null,
      "outputs": [
        {
          "output_type": "stream",
          "name": "stdout",
          "text": [
            "Drive already mounted at /content/drive; to attempt to forcibly remount, call drive.mount(\"/content/drive\", force_remount=True).\n"
          ]
        }
      ]
    },
    {
      "cell_type": "code",
      "source": [
        "# id1,id2 july\n",
        "# ph1, ph2, ph3\n",
        "region = {\n",
        "    'id1': {\n",
        "        'channel_id': 1753200,\n",
        "        'timezone': 'Asia/Kolkata',\n",
        "        'key': '6ZW482KDBT7BEC47'\n",
        "    },\n",
        "    'id2': {\n",
        "        'channel_id': 1754117,\n",
        "        'timezone': 'Asia/Kolkata',\n",
        "        'key': 'VZMWN89XGM66OZOP'\n",
        "    },\n",
        "    'id3': {\n",
        "        'channel_id': 1754130,\n",
        "        'timezone': 'Asia/Kolkata',\n",
        "        'key': 'NYHTIPSAYT1D3H0B'\n",
        "    },\n",
        "    'ph1': {\n",
        "        'channel_id': 1754137,\n",
        "        'timezone': 'Asia/Kuala_Lumpur',\n",
        "        'key': '3UTNSLQM6AZ71T5O'\n",
        "    },\n",
        "    'ph2': {\n",
        "        'channel_id': 1754143,\n",
        "        'timezone': 'Asia/Kuala_Lumpur',\n",
        "        'key': '09BKCR4057NJD380'\n",
        "    },\n",
        "    'ph3': {\n",
        "        'channel_id': 1754148,\n",
        "        'timezone': 'Asia/Kuala_Lumpur',\n",
        "        'key': 'XTTZ8OHDLZBQ4PHP'\n",
        "    },\n",
        "    'my1': {\n",
        "        'channel_id': 1771970,\n",
        "        'timezone': 'Asia/Kuala_Lumpur',\n",
        "        'key': 'EI8VXDPLEMDPZWYJ'\n",
        "    },\n",
        "    'my2': {\n",
        "        'channel_id': 1771974,\n",
        "        'timezone': 'Asia/Kuala_Lumpur',\n",
        "        'key': 'ZGEH65SH587P9Y0Z'\n",
        "    },\n",
        "    'my3': {\n",
        "        'channel_id': 1771976,\n",
        "        'timezone': 'Asia/Kuala_Lumpur',\n",
        "        'key': 'WZZTUUBU8WU9H9JT'\n",
        "    }\n",
        "}\n",
        "\n",
        "days_in_a_month = {\n",
        "    'january': {'index': 1, 'start': 1, 'end': 31, 'status': False, 'year': 2023},\n",
        "    'february': {'index': 2, 'start': 1, 'end': 28, 'status': False, 'year': 2023},\n",
        "    'march': {'index': 3, 'start': 1, 'end': 31, 'status': False, 'year': 2023},\n",
        "    'april': {'index': 4, 'start': 1, 'end': 21, 'status': False, 'year': 2023},\n",
        "    'may': {'index': 5, 'start': 1, 'end': 1, 'status': True, 'year': 2023},\n",
        "    'june': {'index': 6, 'start': 1, 'end': 30, 'status': False, 'year': 2023},\n",
        "    'july': {'index': 7, 'start': 1, 'end': 31, 'status': False, 'year': 2022},\n",
        "    'august': {'index': 8, 'start': 1, 'end': 31, 'status': False, 'year': 2022},\n",
        "    'september': {'index': 9, 'start': 1, 'end': 30, 'status': False, 'year': 2022},\n",
        "    'october': {'index': 10, 'start': 1, 'end': 31, 'status': False, 'year': 2022},\n",
        "    'november': {'index': 11, 'start': 1, 'end': 30, 'status': False, 'year': 2022},\n",
        "    'december': {'index': 12, 'start': 1, 'end': 31, 'status': False, 'year': 2022},\n",
        "}\n",
        "\n",
        "alias = 'my3'\n",
        "\n",
        "http = urllib3.PoolManager()\n",
        "API_KEY = region[alias]['key']\n",
        "timezone = region[alias]['timezone']\n",
        "channel_id = region[alias]['channel_id']\n",
        "filename = alias+'_'+str(channel_id)+'.csv'\n",
        "\n",
        "# \"https://api.thingspeak.com/channels/1753200/feeds.csv?start=2023-03-02%E2%80%99%E2%80%9900:00:00%E2%80%99%E2%80%99&end=2023-03-02%E2%80%99%E2%80%9924:00:00%E2%80%99%E2%80%99&api_key=NYHTIPSAYT1D3H0B&timezone=Asia/Kolkata\"\n",
        "URL = \"https://api.thingspeak.com/channels/1753200/feeds.csv?start=2023-03-02%E2%80%99%E2%80%9900:00:00%E2%80%99%E2\" \\\n",
        "      \"%80%99&end=2023-03-02%E2%80%99%E2%80%9924:00:00%E2%80%99%E2%80%99&api_key=NYHTIPSAYT1D3H0B&timezone=Asia\" \\\n",
        "      \"/Kolkata \"\n",
        "URL_main = 'https://api.thingspeak.com/'\n",
        "URL_path = f'channels/{channel_id}/feeds.csv'\n",
        "URL_params = f'?start=2023-03-03%E2%80%99%E2%80%9900:00:00%E2%80%99%E2%80%99&end=2023-03-03%E2%80%99%E2%80%9924:00:00' \\\n",
        "             f'%E2%80%99%E2%80%99&api_key={API_KEY}&timezone={timezone} '\n",
        "\n",
        "netUrl = URL_main + URL_path + URL_params\n",
        "\n",
        "parsed_url = urlparse(URL)\n",
        "queries = parse_qs(parsed_url.query)\n",
        "\n",
        "\n"
      ],
      "metadata": {
        "id": "G6OrnQgSfXu5"
      },
      "execution_count": null,
      "outputs": []
    },
    {
      "cell_type": "code",
      "source": [
        "def convert_date(raw_query, day, month, year):\n",
        "    arr = raw_query.split(\"-\")\n",
        "    arr[0] = str(year)\n",
        "    arr[1] = str(month)\n",
        "    arr[2] = arr[2].replace(arr[2][:2], day)\n",
        "    new_temp = arr[0] + '-' + arr[1] + '-' + arr[2]\n",
        "    return new_temp\n",
        "\n",
        "\n",
        "def convert_url(url, dayStart, dayEnd, api_key, timezone):\n",
        "    payload = {\n",
        "        'format': 'json',\n",
        "        'start': dayStart,\n",
        "        'end': dayEnd,\n",
        "        'api_key': api_key,\n",
        "        'timezone': timezone\n",
        "    }\n",
        "    payload_str = urllib.parse.urlencode(payload, safe=':')\n",
        "    res = requests.get(\n",
        "        url,\n",
        "        params=payload_str\n",
        "    )\n",
        "    return res.content\n",
        "\n",
        "\n"
      ],
      "metadata": {
        "id": "Rx_pImqYfbIE"
      },
      "execution_count": null,
      "outputs": []
    },
    {
      "cell_type": "code",
      "source": [
        "hasHeader = False\n",
        "df = pd.DataFrame()\n",
        "headerList = ['created_at', 'entry_id', 'field1', 'field2', 'field3', 'field4', 'field5', 'field6', 'field7', 'field8']"
      ],
      "metadata": {
        "id": "TZJiXbpvfeaT"
      },
      "execution_count": null,
      "outputs": []
    },
    {
      "cell_type": "code",
      "source": [
        "print('please wait ....')\n",
        "for i in days_in_a_month:\n",
        "    data_in_csv = pd.DataFrame()\n",
        "\n",
        "    if days_in_a_month[i]['status']:\n",
        "        month = days_in_a_month[i]['index']\n",
        "        year = days_in_a_month[i]['year']\n",
        "        temp_url = netUrl\n",
        "        for day in range(days_in_a_month[i]['end']):\n",
        "            tempDay = str(day + 1).zfill(2)\n",
        "            tempMonth = str(month).zfill(2)\n",
        "            print('downloading ...')\n",
        "            data = convert_url(URL_main + URL_path,\n",
        "                               convert_date(queries['start'][0], tempDay, tempMonth, year),\n",
        "                               convert_date(queries['end'][0], tempDay, tempMonth, year),\n",
        "                               API_KEY,\n",
        "                               timezone)\n",
        "            if hasHeader:\n",
        "                df = pd.read_csv(BytesIO(data))\n",
        "                df.to_csv('/content/drive/MyDrive/TestData/'+filename, mode='a', header=None, index=None)\n",
        "            else:\n",
        "                df = pd.read_csv(BytesIO(data))\n",
        "                df.to_csv('/content/drive/MyDrive/TestData/'+filename, mode='a', header=headerList, index=None)\n",
        "                hasHeader = True\n",
        "\n",
        "            print('data of', str(tempDay) + '-' + str(tempMonth) + '-' + str(year), 'added to file')\n",
        "\n",
        "print('done with extracting data')\n"
      ],
      "metadata": {
        "id": "KewllnlufgIJ",
        "colab": {
          "base_uri": "https://localhost:8080/"
        },
        "outputId": "6d89c4bc-1685-441f-d0ee-64c6766e6c65"
      },
      "execution_count": null,
      "outputs": [
        {
          "output_type": "stream",
          "name": "stdout",
          "text": [
            "please wait ....\n",
            "downloading ...\n",
            "data of 01-05-2023 added to file\n",
            "done with extracting data\n"
          ]
        }
      ]
    }
  ]
}